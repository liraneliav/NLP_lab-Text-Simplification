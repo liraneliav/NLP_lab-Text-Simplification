{
  "nbformat": 4,
  "nbformat_minor": 0,
  "metadata": {
    "colab": {
      "provenance": []
    },
    "kernelspec": {
      "name": "python3",
      "display_name": "Python 3"
    },
    "language_info": {
      "name": "python"
    }
  },
  "cells": [
    {
      "cell_type": "code",
      "execution_count": null,
      "metadata": {
        "colab": {
          "base_uri": "https://localhost:8080/"
        },
        "id": "NOrGfoZXQdc7",
        "outputId": "af50a74e-366d-481f-fa18-b8ea530f1227"
      },
      "outputs": [
        {
          "output_type": "stream",
          "name": "stdout",
          "text": [
            "Mounted at /content/drive\n"
          ]
        }
      ],
      "source": [
        "import os\n",
        "from google.colab import drive\n",
        "\n",
        "drive.mount('/content/drive', force_remount=True)"
      ]
    },
    {
      "cell_type": "code",
      "source": [
        "print(\"Contents of simple_files_path:\", len(os.listdir('/content/drive/MyDrive/NLP_Proj/clean_texts_simple')))"
      ],
      "metadata": {
        "colab": {
          "base_uri": "https://localhost:8080/"
        },
        "id": "KckLDnVMSBsU",
        "outputId": "8f74368e-0443-440b-c68c-b7a31e9f6824"
      },
      "execution_count": null,
      "outputs": [
        {
          "output_type": "stream",
          "name": "stdout",
          "text": [
            "Contents of simple_files_path: 14782\n"
          ]
        }
      ]
    },
    {
      "cell_type": "code",
      "source": [
        "print(\"Contents of simple_files_path:\", len(os.listdir('/content/drive/MyDrive/NLP_Proj/clean_texts_english')))"
      ],
      "metadata": {
        "colab": {
          "base_uri": "https://localhost:8080/"
        },
        "id": "VwUx1midsYYt",
        "outputId": "c04343fc-7bd0-4494-f7e5-c7cb7297d220"
      },
      "execution_count": null,
      "outputs": [
        {
          "output_type": "stream",
          "name": "stdout",
          "text": [
            "Contents of simple_files_path: 3596\n"
          ]
        }
      ]
    },
    {
      "cell_type": "code",
      "source": [
        "simple_files_path = '/content/drive/MyDrive/NLP_Proj/clean_texts_simple'\n",
        "english_files_path = '/content/drive/MyDrive/NLP_Proj/clean_texts_english'\n",
        "\n",
        "def same_files(simple_path, english_path):\n",
        "    # Delete files from simple_path that are not in english_path\n",
        "    for file in os.listdir(simple_path):\n",
        "        if file not in os.listdir(english_path):\n",
        "            full_path = os.path.join(simple_path, file)\n",
        "            if os.path.isfile(full_path):\n",
        "                os.remove(full_path)\n",
        "\n",
        "    # Delete files from english_path that are not in simple_path\n",
        "    for file in os.listdir(english_path):\n",
        "        if file not in os.listdir(simple_path):\n",
        "            full_path = os.path.join(english_path, file)\n",
        "            if os.path.isfile(full_path):\n",
        "                os.remove(full_path)\n",
        "\n",
        "same_files(simple_files_path, english_files_path)"
      ],
      "metadata": {
        "id": "Ua1B4LlXQkIN"
      },
      "execution_count": null,
      "outputs": []
    },
    {
      "cell_type": "code",
      "source": [
        "print(\"Contents of simple_files_path:\", len(os.listdir('/content/drive/MyDrive/NLP_Proj/clean_texts_simple')))"
      ],
      "metadata": {
        "colab": {
          "base_uri": "https://localhost:8080/"
        },
        "id": "Tj3S0JAPscHI",
        "outputId": "3905f597-6276-427f-ba13-cf590c1e8c57"
      },
      "execution_count": null,
      "outputs": [
        {
          "output_type": "stream",
          "name": "stdout",
          "text": [
            "Contents of simple_files_path: 474\n"
          ]
        }
      ]
    },
    {
      "cell_type": "code",
      "source": [
        "print(\"Contents of simple_files_path:\", len(os.listdir('/content/drive/MyDrive/NLP_Proj/clean_texts_english')))"
      ],
      "metadata": {
        "colab": {
          "base_uri": "https://localhost:8080/"
        },
        "id": "9b2B3nFUscs3",
        "outputId": "242b6bce-25bf-4c75-ce3f-e223fa45ca31"
      },
      "execution_count": null,
      "outputs": [
        {
          "output_type": "stream",
          "name": "stdout",
          "text": [
            "Contents of simple_files_path: 474\n"
          ]
        }
      ]
    }
  ]
}